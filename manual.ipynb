{
 "cells": [
  {
   "cell_type": "markdown",
   "metadata": {},
   "source": [
    "### Desenvolvimento com flesk.\n"
   ]
  },
  {
   "cell_type": "markdown",
   "metadata": {},
   "source": [
    "#### Importando Bibliotecas."
   ]
  },
  {
   "cell_type": "code",
   "execution_count": null,
   "metadata": {
    "vscode": {
     "languageId": "plaintext"
    }
   },
   "outputs": [],
   "source": [
    "from flask import Flask"
   ]
  },
  {
   "cell_type": "markdown",
   "metadata": {},
   "source": [
    "#### Inicializando flask."
   ]
  },
  {
   "cell_type": "code",
   "execution_count": null,
   "metadata": {
    "vscode": {
     "languageId": "plaintext"
    }
   },
   "outputs": [],
   "source": [
    "app = Flask(__name__)"
   ]
  },
  {
   "cell_type": "markdown",
   "metadata": {},
   "source": [
    "#### Função responsável por execultar o servidor web."
   ]
  },
  {
   "cell_type": "code",
   "execution_count": null,
   "metadata": {
    "vscode": {
     "languageId": "plaintext"
    }
   },
   "outputs": [],
   "source": [
    "        # modo debug ativado\n",
    "app.run(debug=True)\n",
    "        # é possivel mudar a porta do servidor dentro da função run, com o\n",
    "        # parametro port"
   ]
  },
  {
   "cell_type": "markdown",
   "metadata": {},
   "source": [
    "#### Organização do Flesk.\n",
    "##### Lembrar de organizar bem o código, ele segue sempre o padrão."
   ]
  },
  {
   "cell_type": "code",
   "execution_count": null,
   "metadata": {
    "vscode": {
     "languageId": "plaintext"
    }
   },
   "outputs": [],
   "source": [
    "from flask import flask\n",
    "# inicialização\n",
    "app = Flask(__name__)\n",
    "\n",
    "# rotas\n",
    "\n",
    "\n",
    "# execuçao \n",
    "app.run(debug=True)"
   ]
  },
  {
   "cell_type": "markdown",
   "metadata": {},
   "source": [
    "#### Definindo Rotas."
   ]
  },
  {
   "cell_type": "code",
   "execution_count": null,
   "metadata": {
    "vscode": {
     "languageId": "plaintext"
    }
   },
   "outputs": [],
   "source": [
    "# A rota devi sempre retornar uma função, seja para executar um html ou um simples print    \n",
    "@app.route('/')\n",
    "def primeira_funcao():\n",
    "    return \"Olá mundo\""
   ]
  },
  {
   "cell_type": "markdown",
   "metadata": {},
   "source": [
    "#### Agora vamos linkar as telas ultilizando outra função no modulo Flesk, `url_for`,usando como parametro a função de retono da rota"
   ]
  },
  {
   "cell_type": "code",
   "execution_count": null,
   "metadata": {
    "vscode": {
     "languageId": "plaintext"
    }
   },
   "outputs": [],
   "source": [
    "from flask import Flask,url_for\n",
    "\n",
    "\n",
    "# montando apenas o import e as rotas linkadas como exemplo\n",
    "\n",
    "from flesk import Flesk,\n",
    "\n",
    "@app.route('/')\n",
    "def inicio():\n",
    "        # modificações \n",
    "    return f\"para a proxima pagina <a href='{url_for(\"sobre\")}'>click aqui</a>\"\n",
    "\n",
    "@app.rout('/sobre')\n",
    "def sobre():\n",
    "    return f\"para retornar a pagina anterior <a href='{url_for(\"inicio\")}'>click aqui</a>\"\""
   ]
  },
  {
   "cell_type": "markdown",
   "metadata": {},
   "source": [
    "#### Configurando Templates."
   ]
  },
  {
   "cell_type": "markdown",
   "metadata": {},
   "source": [
    "##### Importando a instancia da biblioteca Flesk , tb criei uma pasta chamada `templates` e salvei uma pagina html, que servirar como template"
   ]
  },
  {
   "cell_type": "code",
   "execution_count": null,
   "metadata": {
    "vscode": {
     "languageId": "plaintext"
    }
   },
   "outputs": [],
   "source": [
    "from flask import Flask,url_for,render_template"
   ]
  },
  {
   "cell_type": "markdown",
   "metadata": {},
   "source": [
    "#### Aqui vou configurar novamente a rota inicial para chamar nosso template html"
   ]
  },
  {
   "cell_type": "code",
   "execution_count": null,
   "metadata": {
    "vscode": {
     "languageId": "plaintext"
    }
   },
   "outputs": [],
   "source": [
    "@app.route('/')\n",
    "def inicio():\n",
    "       return render_template('index.html')"
   ]
  }
 ],
 "metadata": {
  "language_info": {
   "name": "python"
  }
 },
 "nbformat": 4,
 "nbformat_minor": 2
}
